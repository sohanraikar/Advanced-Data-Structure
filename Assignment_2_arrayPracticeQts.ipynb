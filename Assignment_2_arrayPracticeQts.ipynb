{
 "cells": [
  {
   "cell_type": "code",
   "execution_count": null,
   "id": "8f767bb8-9d0b-4bf4-b0d8-6d39372f7d3e",
   "metadata": {},
   "outputs": [],
   "source": [
    "    #   Array:\n",
    "#  I) Practice questions: Easy :-"
   ]
  },
  {
   "cell_type": "code",
   "execution_count": 103,
   "id": "a75dd3ce-1bc8-4938-85a1-690424cb4116",
   "metadata": {},
   "outputs": [
    {
     "name": "stdout",
     "output_type": "stream",
     "text": [
      "Smallest: 1\n"
     ]
    }
   ],
   "source": [
    "# Q1. Write a program to find the smallest element among N inputted numbers.\n",
    "arr = [3, 1, 4, 1, 5, 9, 2, 6]\n",
    "def smallest_element(arr):\n",
    "    return min(arr)    \n",
    "print(\"Smallest:\", smallest_element(arr))"
   ]
  },
  {
   "cell_type": "code",
   "execution_count": 25,
   "id": "6aa402d8-c7ff-4f98-9b47-e4d0dd053618",
   "metadata": {},
   "outputs": [
    {
     "name": "stdout",
     "output_type": "stream",
     "text": [
      "Reversed: [3, 1, 4, 1, 5, 9, 2, 6]\n"
     ]
    }
   ],
   "source": [
    "# Q2. Write a program to rearrange an array in reverse order without using a second array.\n",
    "\n",
    "def reverse_array(arr):\n",
    "    arr.reverse()  # or arr[:] = arr[::-1]\n",
    "    reverse_array(arr)\n",
    "print(\"Reversed:\", arr)"
   ]
  },
  {
   "cell_type": "code",
   "execution_count": 27,
   "id": "40468a6b-3365-4967-9e8b-37ba30c18969",
   "metadata": {},
   "outputs": [
    {
     "name": "stdout",
     "output_type": "stream",
     "text": [
      "Standard Deviation: 2.5708704751503917\n"
     ]
    }
   ],
   "source": [
    "# Q3. Write a program to calculate standard deviation of N numbers.\n",
    "\n",
    "import math\n",
    "def standard_deviation(arr):\n",
    "    mean = sum(arr) / len(arr)\n",
    "    variance = sum((x - mean) ** 2 for x in arr) / len(arr)\n",
    "    return math.sqrt(variance)\n",
    "print(\"Standard Deviation:\", standard_deviation(arr))"
   ]
  },
  {
   "cell_type": "code",
   "execution_count": 29,
   "id": "ddc1d46d-b49f-47a1-98d6-7280834cffd2",
   "metadata": {},
   "outputs": [
    {
     "name": "stdout",
     "output_type": "stream",
     "text": [
      "Count of Odds: 5\n"
     ]
    }
   ],
   "source": [
    "# Q4. Write a program to count odd numbers in a set of integers.\n",
    "\n",
    "def count_odds(arr):\n",
    "    return sum(1 for x in arr if x % 2 != 0)\n",
    "print(\"Count of Odds:\", count_odds(arr))"
   ]
  },
  {
   "cell_type": "code",
   "execution_count": 31,
   "id": "b1ca04b6-ef52-41e6-b291-6b9a920e4315",
   "metadata": {},
   "outputs": [
    {
     "name": "stdout",
     "output_type": "stream",
     "text": [
      "Largest Odd: 9\n"
     ]
    }
   ],
   "source": [
    "# Q5. Write a program to largest odd number in a set of integers.\n",
    "\n",
    "def largest_odd(arr):\n",
    "    odds = [x for x in arr if x % 2 != 0]\n",
    "    return max(odds) if odds else None\n",
    "print(\"Largest Odd:\", largest_odd(arr))"
   ]
  },
  {
   "cell_type": "code",
   "execution_count": 33,
   "id": "32fa3fdc-838b-407f-932a-7f918c4c8685",
   "metadata": {},
   "outputs": [
    {
     "name": "stdout",
     "output_type": "stream",
     "text": [
      "Prime Count: 3\n"
     ]
    }
   ],
   "source": [
    "# Q6. Write a program to count the total number of prime numbers in a set of integers.\n",
    "\n",
    "def is_prime(n):\n",
    "    if n < 2:\n",
    "        return False\n",
    "    for i in range(2, int(n**0.5) + 1):\n",
    "        if n % i == 0:\n",
    "            return False\n",
    "    return True\n",
    "\n",
    "def count_primes(arr):\n",
    "    return sum(1 for x in arr if is_prime(x))\n",
    "print(\"Prime Count:\", count_primes(arr))"
   ]
  },
  {
   "cell_type": "code",
   "execution_count": 35,
   "id": "1fb2b3f4-8ee7-4e4e-b145-abb7fd16f3ac",
   "metadata": {},
   "outputs": [
    {
     "name": "stdout",
     "output_type": "stream",
     "text": [
      "Second Highest: 6\n"
     ]
    }
   ],
   "source": [
    "# Q7. Write a program to find the second highest element among N inputted numbers.\n",
    "\n",
    "def second_highest(arr):\n",
    "    unique_sorted = sorted(set(arr), reverse=True)\n",
    "    return unique_sorted[1] if len(unique_sorted) > 1 else None\n",
    "print(\"Second Highest:\", second_highest(arr))"
   ]
  },
  {
   "cell_type": "code",
   "execution_count": 37,
   "id": "ee8845b4-4486-4583-bc05-054af81b0276",
   "metadata": {},
   "outputs": [
    {
     "name": "stdout",
     "output_type": "stream",
     "text": [
      "Largest Difference: 8\n"
     ]
    }
   ],
   "source": [
    "# Q8. Write a program to find the largest difference in a set of numbers.\n",
    "\n",
    "def largest_difference(arr):\n",
    "    return max(arr) - min(arr)\n",
    "print(\"Largest Difference:\", largest_difference(arr))"
   ]
  },
  {
   "cell_type": "code",
   "execution_count": 39,
   "id": "2f9bdc74-fa5e-4ebd-bdc6-3c245c1dbb7b",
   "metadata": {},
   "outputs": [
    {
     "name": "stdout",
     "output_type": "stream",
     "text": [
      "Binary of 10: 1010\n"
     ]
    }
   ],
   "source": [
    "# Q9. Write a program to find the binary equivalent of a decimal numbers.\n",
    "\n",
    "def decimal_to_binary(n):\n",
    "    return bin(n)[2:]\n",
    "print(\"Binary of 10:\", decimal_to_binary(10))"
   ]
  },
  {
   "cell_type": "code",
   "execution_count": 41,
   "id": "8a95f852-1bc0-4a26-a0ed-b14d71131a8e",
   "metadata": {},
   "outputs": [
    {
     "name": "stdout",
     "output_type": "stream",
     "text": [
      "Delete 3rd element: [3, 1, 1, 5, 9, 2, 6]\n"
     ]
    }
   ],
   "source": [
    "# Q10.Write a program to delete an element from the k-th position of an array.\n",
    "\n",
    "def delete_kth(arr, k):\n",
    "    if 0 <= k < len(arr):\n",
    "        del arr[k]\n",
    "    return arr\n",
    "print(\"Delete 3rd element:\", delete_kth(arr, 2))"
   ]
  },
  {
   "cell_type": "code",
   "execution_count": 43,
   "id": "a8a8cc38-0307-4cee-ab49-3291a4adb854",
   "metadata": {},
   "outputs": [
    {
     "name": "stdout",
     "output_type": "stream",
     "text": [
      "Insert 7 in sorted array: [1, 3, 5, 7, 9]\n"
     ]
    }
   ],
   "source": [
    "# Q11. Write a program to insert an element at its proper position in a previously sorted array.\n",
    "\n",
    "def insert_sorted(arr, element):\n",
    "    arr.append(element)\n",
    "    arr.sort()\n",
    "    return arr\n",
    "print(\"Insert 7 in sorted array:\", insert_sorted([1, 3, 5, 9], 7))"
   ]
  },
  {
   "cell_type": "code",
   "execution_count": 45,
   "id": "4c27a118-e91b-4c5c-8632-269478938a6e",
   "metadata": {},
   "outputs": [
    {
     "name": "stdout",
     "output_type": "stream",
     "text": [
      "Union of [1,2,3] & [3,4,5]: [1, 2, 3, 4, 5]\n"
     ]
    }
   ],
   "source": [
    "# Q12.Write a program to find the union of two sets of numbers.\n",
    "\n",
    "def union_sets(set1, set2):\n",
    "    return list(set(set1) | set(set2))\n",
    "print(\"Union of [1,2,3] & [3,4,5]:\", union_sets([1,2,3], [3,4,5]))"
   ]
  },
  {
   "cell_type": "code",
   "execution_count": null,
   "id": "a8e16abb-9a1c-4274-ad76-419ca5d154f4",
   "metadata": {},
   "outputs": [],
   "source": [
    " # II)  Intermediate:"
   ]
  },
  {
   "cell_type": "code",
   "execution_count": 47,
   "id": "e9ed4c31-1a8b-4f6c-a00d-3a5fd7f3d7c8",
   "metadata": {},
   "outputs": [
    {
     "name": "stdout",
     "output_type": "stream",
     "text": [
      "Move Zeroes: [1, 3, 12, 0, 0]\n"
     ]
    }
   ],
   "source": [
    "# Q1. Move Zeroes to the End\n",
    "#  • Problem: Write a function that moves all zeroes in an array to the end while maintaining the relative order of the non-zero elements.\n",
    "#  • Input: arr = [0, 1, 0, 3, 12]\n",
    "#  • Output: [1, 3, 12, 0, 0]\n",
    "\n",
    "arr1 = [0, 1, 0, 3, 12]\n",
    "def move_zeroes(arr):\n",
    "    non_zero_index = 0\n",
    "    for i in range(len(arr)):\n",
    "        if arr[i] != 0:\n",
    "            arr[non_zero_index], arr[i] = arr[i], arr[non_zero_index]\n",
    "            non_zero_index += 1\n",
    "    return arr\n",
    "print(\"Move Zeroes:\", move_zeroes(arr1))"
   ]
  },
  {
   "cell_type": "code",
   "execution_count": 49,
   "id": "c9b99622-0180-48a5-bdbe-e2999a72654c",
   "metadata": {},
   "outputs": [
    {
     "name": "stdout",
     "output_type": "stream",
     "text": [
      "Rotate Array: [4, 5, 1, 2, 3]\n"
     ]
    }
   ],
   "source": [
    "#  Q2. Array rotation\n",
    "#   • Problem : write a python function to rotate an array to the right kth position.\n",
    "#   • Input: arr = [1,2,3,4,5]\n",
    "#   • Output: [4,5,1,2,3]\n",
    "\n",
    "arr2 = [1, 2, 3, 4, 5]\n",
    "def rotate_array(arr, k):\n",
    "    k %= len(arr)  # Handle cases where k > len(arr)\n",
    "    return arr[-k:] + arr[:-k]\n",
    "print(\"Rotate Array:\", rotate_array(arr2, 2))"
   ]
  },
  {
   "cell_type": "code",
   "execution_count": 51,
   "id": "6d464582-c9c3-45e5-8635-83c759d1c0e0",
   "metadata": {},
   "outputs": [
    {
     "name": "stdout",
     "output_type": "stream",
     "text": [
      "Product Except Self: [24, 12, 8, 6]\n"
     ]
    }
   ],
   "source": [
    "#  Q3. Product of All Elements Except Itself\n",
    "#   • Problem: Given an array of integers, return a new array such that each element at index i is the product of all the numbers in the array except\n",
    "#     the one at i.\n",
    "#   • Input: arr = [1, 2, 3, 4]\n",
    "#   • Output: [24, 12, 8, 6]\n",
    "\n",
    "arr3 = [1, 2, 3, 4]\n",
    "def product_except_self(arr):\n",
    "    n = len(arr)\n",
    "    output = [1] * n\n",
    "    left_product = 1\n",
    "    for i in range(n):\n",
    "        output[i] = left_product\n",
    "        left_product *= arr[i]\n",
    "    right_product = 1\n",
    "    for i in range(n-1, -1, -1):\n",
    "        output[i] *= right_product\n",
    "        right_product *= arr[i]\n",
    "    return output\n",
    "print(\"Product Except Self:\", product_except_self(arr3))"
   ]
  },
  {
   "cell_type": "code",
   "execution_count": 53,
   "id": "f30a9fe5-fc84-43be-b146-1cd8bfb6150a",
   "metadata": {},
   "outputs": [
    {
     "name": "stdout",
     "output_type": "stream",
     "text": [
      "Two Sum: [0, 1]\n"
     ]
    }
   ],
   "source": [
    "#  Q4. Two Sum Problem\n",
    "#   • Problem: Given an array of integers and a target value, return the indices of the two numbers such that they add up to the target.\n",
    "#   • Input: arr = [2, 7, 11, 15], target = 9\n",
    "#   • Output: [0, 1] (because arr[0] + arr[1] == 9)\n",
    "\n",
    "arr4 = [2, 7, 11, 15]\n",
    "def two_sum(arr, target):\n",
    "    num_dict = {}\n",
    "    for i, num in enumerate(arr):\n",
    "        diff = target - num\n",
    "        if diff in num_dict:\n",
    "            return [num_dict[diff], i]\n",
    "        num_dict[num] = i\n",
    "    return []\n",
    "print(\"Two Sum:\", two_sum(arr4, 9))"
   ]
  },
  {
   "cell_type": "code",
   "execution_count": 55,
   "id": "4580de4c-1dc4-4a29-87ba-02430e9733a3",
   "metadata": {},
   "outputs": [
    {
     "name": "stdout",
     "output_type": "stream",
     "text": [
      "Min Jumps: 2\n"
     ]
    }
   ],
   "source": [
    "#  Q5. Minimum Number of Jumps to Reach End\n",
    "#   • Problem: Given an array of integers where each element represents the maximum jump length from that position, determine the minimum number\n",
    "#     of jumps required to reach the end of the array.\n",
    "#   • Input: arr = [6, 2, 4, 0, 5, 1, 1, 4, 2, 9]\n",
    "#   • Output: 2 (The minimum jumps to reach the end are 6 -> 5 -> 9)\n",
    "\n",
    "arr5 = [6, 2, 4, 0, 5, 1, 1, 4, 2, 9]\n",
    "def min_jumps(arr):\n",
    "    if len(arr) <= 1:\n",
    "        return 0\n",
    "    if arr[0] == 0:\n",
    "        return float('inf')\n",
    "    \n",
    "    max_reach, steps, jumps = arr[0], arr[0], 1\n",
    "    for i in range(1, len(arr)):\n",
    "        if i == len(arr) - 1:\n",
    "            return jumps\n",
    "        max_reach = max(max_reach, i + arr[i])\n",
    "        steps -= 1\n",
    "        if steps == 0:\n",
    "            jumps += 1\n",
    "            if i >= max_reach:\n",
    "                return float('inf')\n",
    "            steps = max_reach - i\n",
    "    return jumps\n",
    "print(\"Min Jumps:\", min_jumps(arr5))"
   ]
  },
  {
   "cell_type": "code",
   "execution_count": 57,
   "id": "73401648-74a1-49e7-acf3-d9e4a627fd1b",
   "metadata": {},
   "outputs": [
    {
     "name": "stdout",
     "output_type": "stream",
     "text": [
      "Sort Colors: [0, 0, 1, 1, 2, 2]\n"
     ]
    }
   ],
   "source": [
    "#  Q6. Sort Colors (Dutch National Flag Problem)\n",
    "#   • Problem: Given an array containing n objects, where each object is one of three colors represented by integers 0, 1, and 2, \n",
    "#     sort the array in-place without using extra space.\n",
    "#   • Input: arr = [2, 0, 2, 1, 1, 0]\n",
    "#   • Output: [0, 0, 1, 1, 2, 2]\n",
    "\n",
    "arr6 = [2, 0, 2, 1, 1, 0]\n",
    "def sort_colors(arr):\n",
    "    low, mid, high = 0, 0, len(arr) - 1\n",
    "    while mid <= high:\n",
    "        if arr[mid] == 0:\n",
    "            arr[low], arr[mid] = arr[mid], arr[low]\n",
    "            low += 1\n",
    "            mid += 1\n",
    "        elif arr[mid] == 1:\n",
    "            mid += 1\n",
    "        else:\n",
    "            arr[mid], arr[high] = arr[high], arr[mid]\n",
    "            high -= 1\n",
    "    return arr\n",
    "print(\"Sort Colors:\", sort_colors(arr6))"
   ]
  },
  {
   "cell_type": "code",
   "execution_count": 59,
   "id": "57a4be91-98fd-4040-8658-0780d1e4f30f",
   "metadata": {},
   "outputs": [
    {
     "name": "stdout",
     "output_type": "stream",
     "text": [
      "Trapping Rain Water: 6\n"
     ]
    }
   ],
   "source": [
    "#  Q7. Trapping Rain Water\n",
    "#   • Problem: Given an array representing the heights of bars, compute how much water it can trap after raining.\n",
    "#   • Input: arr = [0, 1, 0, 2, 1, 0, 1, 3, 2, 1, 2, 1]\n",
    "#   • Output: 6 (total water trapped)\n",
    "\n",
    "arr7 = [0, 1, 0, 2, 1, 0, 1, 3, 2, 1, 2, 1]\n",
    "def trapping_rain_water(arr):\n",
    "    if not arr:\n",
    "        return 0\n",
    "    left, right = 0, len(arr) - 1\n",
    "    left_max, right_max = arr[left], arr[right]\n",
    "    water = 0\n",
    "    while left < right:\n",
    "        if left_max < right_max:\n",
    "            left += 1\n",
    "            left_max = max(left_max, arr[left])\n",
    "            water += left_max - arr[left]\n",
    "        else:\n",
    "            right -= 1\n",
    "            right_max = max(right_max, arr[right])\n",
    "            water += right_max - arr[right]\n",
    "    return water\n",
    "print(\"Trapping Rain Water:\", trapping_rain_water(arr7))\n"
   ]
  },
  {
   "cell_type": "code",
   "execution_count": 61,
   "id": "19de6b2d-9e0c-4694-9c7c-e5fcd1c28782",
   "metadata": {},
   "outputs": [],
   "source": [
    "#  III) Difficult:-"
   ]
  },
  {
   "cell_type": "code",
   "execution_count": 99,
   "id": "0994a075-4784-456f-bea8-b6324075ca81",
   "metadata": {},
   "outputs": [
    {
     "name": "stdout",
     "output_type": "stream",
     "text": [
      "Total Sales per Employee: [1800, 1200, 2700]\n",
      "Total Sales per Month: [1600, 1900, 2200]\n",
      "Total Sales of Organization: 5700\n"
     ]
    }
   ],
   "source": [
    "#  Q1. In an organisation monthly sales figures of employees are available. Write\n",
    "#      a program to find the total sales of each employee and total sales of each month. Also find the total sales of the organization.\n",
    "\n",
    "sales_data = [\n",
    "    [500, 600, 700], \n",
    "    [300, 400, 500], \n",
    "    [800, 900, 1000]]\n",
    "def sales_analysis(sales):\n",
    "    employees, months = len(sales), len(sales[0])\n",
    "    ts_employee = [sum(sales[i]) for i in range(employees)]\n",
    "    ts_month = [sum(sales[i][j] for i in range(employees)) for j in range(months)]\n",
    "    ts_org = sum(ts_employee)\n",
    "    return ts_employee, ts_month, ts_org\n",
    "emp_sales, month_sales, total_sales = sales_analysis(sales_data)\n",
    "print(\"Total Sales per Employee:\", emp_sales)\n",
    "print(\"Total Sales per Month:\", month_sales)\n",
    "print(\"Total Sales of Organization:\", total_sales)"
   ]
  },
  {
   "cell_type": "code",
   "execution_count": 89,
   "id": "8ee8b79b-f236-4282-b4be-173a68ddd6a7",
   "metadata": {},
   "outputs": [
    {
     "name": "stdout",
     "output_type": "stream",
     "text": [
      "Determinant of matrix: -1\n"
     ]
    }
   ],
   "source": [
    "#  Q2. Write a program to find the determinant of a matrix.\n",
    "import numpy as np\n",
    "matrix_2x2 = [[4, 3], [3, 2]]\n",
    "def determinant(matrix):\n",
    "    return round(np.linalg.det(matrix))\n",
    "print(\"Determinant of matrix:\", determinant(matrix_2x2))  "
   ]
  },
  {
   "cell_type": "code",
   "execution_count": 91,
   "id": "13b05837-e50d-448e-89ca-1065dcb89d88",
   "metadata": {},
   "outputs": [
    {
     "name": "stdout",
     "output_type": "stream",
     "text": [
      "Sum of Diagonal Elements: 15\n"
     ]
    }
   ],
   "source": [
    "#  Q3. Write a program to find the sum of diagonal elements of a square matrix.\n",
    "\n",
    "matrix_3x3 = [[1, 2, 3], [4, 5, 6], [7, 8, 9]]\n",
    "def diagonal_sum(matrix):\n",
    "    return sum(matrix[i][i] for i in range(len(matrix)))\n",
    "print(\"Sum of Diagonal Elements:\", diagonal_sum(matrix_3x3))"
   ]
  },
  {
   "cell_type": "code",
   "execution_count": 101,
   "id": "2ec928e1-051c-4073-ac2c-c1719b74250d",
   "metadata": {},
   "outputs": [
    {
     "name": "stdout",
     "output_type": "stream",
     "text": [
      "Highest Temperature Each City: [36, 32, 29]\n",
      "Day of Highest Temperature: [5, 5, 5]\n",
      "Average Max Temperature Each City: [32.8, 30.0, 27.0]\n"
     ]
    }
   ],
   "source": [
    "#  Q4. Maximum temperature of each day for 20 cities are recorded for the month of January. Write a program to find the following:\n",
    "#      a. The highest temperature of each city in January\n",
    "#      b. The day in which the highest temperature is recorded for the city\n",
    "#      c. Average maximum temperature of each city.\n",
    "\n",
    "temps_january = [\n",
    "    [30, 32, 31, 35, 36],  # City 1\n",
    "    [28, 29, 31, 30, 32],  # City 2\n",
    "    [25, 26, 27, 28, 29]   # City 3\n",
    "]\n",
    "def temperature_analysis(temps):\n",
    "    h_temp = [max(city) for city in temps]\n",
    "    h_temp_day = [city.index(max(city)) + 1 for city in temps]\n",
    "    avg_temp = [sum(city) / len(city) for city in temps]\n",
    "    return h_temp, h_temp_day, avg_temp    \n",
    "highest, highest_day, avg_temp = temperature_analysis(temps_january)\n",
    "print(\"Highest Temperature Each City:\", highest)\n",
    "print(\"Day of Highest Temperature:\", highest_day)\n",
    "print(\"Average Max Temperature Each City:\", avg_temp)\n"
   ]
  },
  {
   "cell_type": "code",
   "execution_count": 95,
   "id": "939c4043-035c-484d-ba61-d9b57d08d9ca",
   "metadata": {},
   "outputs": [
    {
     "name": "stdout",
     "output_type": "stream",
     "text": [
      "Updated Matrix: [[1, 0, 1], [0, 0, 0], [1, 0, 1]]\n"
     ]
    }
   ],
   "source": [
    "#  Q5. Given an m x n matrix, if an element in the matrix is 0, set its entire row and column to 0. Do this in O(m * n) time complexity.\n",
    "#  Output:\n",
    "# [ [1, 0, 1],\n",
    "# [0, 0, 0],\n",
    "# [1, 0, 1] ]\n",
    "\n",
    "#  Input:\n",
    "# [ [1, 1, 1],\n",
    "# [1, 0, 1],\n",
    "# [1, 1, 1] ]\n",
    "\n",
    "matrix_input = [\n",
    "    [1, 1, 1],\n",
    "    [1, 0, 1],\n",
    "    [1, 1, 1]\n",
    "]\n",
    "def set_zeroes(matrix):\n",
    "    m, n = len(matrix), len(matrix[0])\n",
    "    row_flags, col_flags = [False] * m, [False] * n\n",
    "    for i in range(m):\n",
    "        for j in range(n):\n",
    "            if matrix[i][j] == 0:\n",
    "                row_flags[i] = col_flags[j] = True\n",
    "    for i in range(m):\n",
    "        for j in range(n):\n",
    "            if row_flags[i] or col_flags[j]:\n",
    "                matrix[i][j] = 0\n",
    "    return matrix\n",
    "print(\"Updated Matrix:\", set_zeroes(matrix_input))\n"
   ]
  }
 ],
 "metadata": {
  "kernelspec": {
   "display_name": "Python 3 (ipykernel)",
   "language": "python",
   "name": "python3"
  },
  "language_info": {
   "codemirror_mode": {
    "name": "ipython",
    "version": 3
   },
   "file_extension": ".py",
   "mimetype": "text/x-python",
   "name": "python",
   "nbconvert_exporter": "python",
   "pygments_lexer": "ipython3",
   "version": "3.12.4"
  }
 },
 "nbformat": 4,
 "nbformat_minor": 5
}
